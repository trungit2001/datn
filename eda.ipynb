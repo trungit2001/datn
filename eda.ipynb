{
 "cells": [
  {
   "cell_type": "code",
   "execution_count": 1,
   "id": "d3047309-98f3-4b59-88c2-514bd8a95407",
   "metadata": {},
   "outputs": [],
   "source": [
    "import os\n",
    "import pandas as pd"
   ]
  },
  {
   "cell_type": "code",
   "execution_count": 2,
   "id": "dbf0c330-8709-4a31-945e-8b7f0fc4a964",
   "metadata": {},
   "outputs": [
    {
     "name": "stdout",
     "output_type": "stream",
     "text": [
      "allergies.csv\n",
      "careplans.csv\n",
      "conditions.csv\n",
      "devices.csv\n",
      "encounters.csv\n",
      "imaging_studies.csv\n",
      "immunizations.csv\n",
      "medications.csv\n",
      "observations.csv\n",
      "organizations.csv\n",
      "patients.csv\n",
      "payers.csv\n",
      "payer_transitions.csv\n",
      "procedures.csv\n",
      "providers.csv\n",
      "supplies.csv\n"
     ]
    }
   ],
   "source": [
    "files = os.listdir(\"data/covid19\")\n",
    "filenames = [file.split('.')[0] for file in files]\n",
    "print('\\n'.join(files))"
   ]
  },
  {
   "cell_type": "code",
   "execution_count": 3,
   "id": "de4161d4-8e22-437d-a844-d65ae4ebed06",
   "metadata": {},
   "outputs": [],
   "source": [
    "allergies = pd.read_csv(\"data/covid19/allergies.csv\")\n",
    "careplans = pd.read_csv(\"data/covid19/careplans.csv\")\n",
    "conditions = pd.read_csv(\"data/covid19/conditions.csv\")\n",
    "devices = pd.read_csv(\"data/covid19/devices.csv\")\n",
    "encounters = pd.read_csv(\"data/covid19/encounters.csv\")\n",
    "imaging_studies = pd.read_csv(\"data/covid19/imaging_studies.csv\")\n",
    "immunizations = pd.read_csv(\"data/covid19/immunizations.csv\")\n",
    "medications = pd.read_csv(\"data/covid19/medications.csv\")\n",
    "observations = pd.read_csv(\"data/covid19/observations.csv\")\n",
    "organizations = pd.read_csv(\"data/covid19/organizations.csv\")\n",
    "patients = pd.read_csv(\"data/covid19/patients.csv\")\n",
    "payers = pd.read_csv(\"data/covid19/payers.csv\")\n",
    "payer_transitions = pd.read_csv(\"data/covid19/payer_transitions.csv\")\n",
    "procedures = pd.read_csv(\"data/covid19/procedures.csv\")\n",
    "providers = pd.read_csv(\"data/covid19/providers.csv\")\n",
    "supplies = pd.read_csv(\"data/covid19/supplies.csv\")"
   ]
  },
  {
   "cell_type": "code",
   "execution_count": 33,
   "id": "89020e51-190d-44d2-97db-4fc97ca2d7bf",
   "metadata": {},
   "outputs": [
    {
     "name": "stdout",
     "output_type": "stream",
     "text": [
      "<class 'pandas.core.frame.DataFrame'>\n",
      "RangeIndex: 143110 entries, 0 to 143109\n",
      "Data columns (total 6 columns):\n",
      " #   Column       Non-Null Count   Dtype \n",
      "---  ------       --------------   ----- \n",
      " 0   DATE         143110 non-null  object\n",
      " 1   PATIENT      143110 non-null  object\n",
      " 2   ENCOUNTER    143110 non-null  object\n",
      " 3   CODE         143110 non-null  int64 \n",
      " 4   DESCRIPTION  143110 non-null  object\n",
      " 5   QUANTITY     143110 non-null  int64 \n",
      "dtypes: int64(2), object(4)\n",
      "memory usage: 6.6+ MB\n"
     ]
    }
   ],
   "source": [
    "supplies.info()"
   ]
  },
  {
   "cell_type": "code",
   "execution_count": 34,
   "id": "206a06f0-649f-4cb8-91cb-5770f7139bed",
   "metadata": {},
   "outputs": [
    {
     "data": {
      "text/plain": [
       "DATE             75\n",
       "PATIENT        1867\n",
       "ENCOUNTER      2398\n",
       "CODE             21\n",
       "DESCRIPTION      21\n",
       "QUANTITY          9\n",
       "dtype: int64"
      ]
     },
     "execution_count": 34,
     "metadata": {},
     "output_type": "execute_result"
    }
   ],
   "source": [
    "supplies.nunique()"
   ]
  },
  {
   "cell_type": "code",
   "execution_count": null,
   "id": "1be70650-1d35-41b9-8aea-319de463bed7",
   "metadata": {},
   "outputs": [],
   "source": []
  }
 ],
 "metadata": {
  "kernelspec": {
   "display_name": "Python 3 (ipykernel)",
   "language": "python",
   "name": "python3"
  },
  "language_info": {
   "codemirror_mode": {
    "name": "ipython",
    "version": 3
   },
   "file_extension": ".py",
   "mimetype": "text/x-python",
   "name": "python",
   "nbconvert_exporter": "python",
   "pygments_lexer": "ipython3",
   "version": "3.9.16"
  }
 },
 "nbformat": 4,
 "nbformat_minor": 5
}
